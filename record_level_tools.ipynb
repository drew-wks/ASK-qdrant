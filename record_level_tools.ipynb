{
 "cells": [
  {
   "cell_type": "code",
   "execution_count": 27,
   "metadata": {},
   "outputs": [],
   "source": [
    "import streamlit as st\n",
    "from qdrant_client import QdrantClient\n",
    "from qdrant_client.http.models import Distance, VectorParams, PayloadSchemaType\n",
    "from qdrant_client.http import exceptions as qdrant_exceptions\n",
    "\n",
    "# CONFIG: qdrant\n",
    "api_key = st.secrets[\"QDRANT_API_KEY\"]\n",
    "url = st.secrets[\"QDRANT_URL\"]\n",
    "pdfs_collection_name = \"ask_pdf_docs\"\n",
    "pages_collection_name = \"ask_pdf_pages\""
   ]
  },
  {
   "cell_type": "markdown",
   "metadata": {},
   "source": [
    "### Check the Connection to Qdrant"
   ]
  },
  {
   "cell_type": "code",
   "execution_count": 28,
   "metadata": {},
   "outputs": [
    {
     "name": "stdout",
     "output_type": "stream",
     "text": [
      "collections=[CollectionDescription(name='ask_pdf_pages'), CollectionDescription(name='ask_pdf_docs'), CollectionDescription(name='ASK_vectorstore')]\n"
     ]
    }
   ],
   "source": [
    "client = QdrantClient(\n",
    "    url=url,\n",
    "    api_key=api_key,\n",
    ")\n",
    "\n",
    "try:\n",
    "    '''usage'''\n",
    "    content = client.get_collections()\n",
    "    print(content)\n",
    "except qdrant_exceptions.UnexpectedResponse as e:\n",
    "    # Check if the error is a 404 Not Found\n",
    "    if \"404\" in str(e):\n",
    "        print(\"The server returned a 404 Not Found error, which indicates the server is active but could not find the requested URL or endpoint. This might be due to a wrong URL, an incorrect path, or a resource that doesn't exist.\")\n",
    "    else:\n",
    "        # Re-raise the error if it's not a 404\n",
    "        raise\n",
    "except Exception as e:\n",
    "    # Handle any other exceptions that may occur\n",
    "    print(f\"An unexpected error occurred: {e}\")"
   ]
  },
  {
   "cell_type": "markdown",
   "metadata": {},
   "source": [
    "### Example: Add a PDF to Qdrants by hand"
   ]
  },
  {
   "cell_type": "markdown",
   "metadata": {},
   "source": [
    "### Add a fictional record for ask_pdf_doc"
   ]
  },
  {
   "cell_type": "code",
   "execution_count": 26,
   "metadata": {},
   "outputs": [
    {
     "data": {
      "text/plain": [
       "True"
      ]
     },
     "execution_count": 26,
     "metadata": {},
     "output_type": "execute_result"
    }
   ],
   "source": [
    "pdf_id = \"002552f4-ccde-4518-bb5d-e861c7188653\"\n",
    "sample_vector = [0] * 1536\n",
    "\n",
    "def check_id_exists_in_qdrant(pdfs_collection_name, pdf_id):\n",
    "\n",
    "    try:\n",
    "        existing_data = client.retrieve(\n",
    "            collection_name=pdfs_collection_name,\n",
    "            ids=[pdf_id],\n",
    "            with_payload=False,  # change to True to see the payload\n",
    "            with_vectors=False,  # change to True to see the vectors\n",
    "        )\n",
    "\n",
    "        return len(existing_data) != 0  # Returns False if 0, else True\n",
    "\n",
    "    except Exception as e:\n",
    "        print(f\"Error checking for the ID in Qdrant: {e}\")\n",
    "        return False\n",
    "\n",
    "\n",
    "check_id_exists_in_qdrant(pdfs_collection_name, pdf_id)"
   ]
  },
  {
   "cell_type": "code",
   "execution_count": 7,
   "metadata": {},
   "outputs": [
    {
     "data": {
      "text/plain": [
       "UpdateResult(operation_id=52, status=<UpdateStatus.COMPLETED: 'completed'>)"
      ]
     },
     "execution_count": 7,
     "metadata": {},
     "output_type": "execute_result"
    }
   ],
   "source": [
    "from datetime import datetime\n",
    "\n",
    "\n",
    "# Example document metadata for ask_pdf_docs\n",
    "document_metadata = {\n",
    "    \"title\": \"Fictional Coast Guard Directive\",\n",
    "    \"leadership_scope\": \"1_National\",\n",
    "    \"creation_date\": datetime(2023, 1, 15).isoformat(),  # Example timestamp\n",
    "    \"effective_date\": datetime(2023, 2, 1).isoformat(),\n",
    "    \"upsert_date\": datetime.now().isoformat(),  # Current timestamp for upsert date\n",
    "    # 10 years in the future\n",
    "    \"expiration_date\": datetime(2033, 2, 1).isoformat(),\n",
    "    \"aux_specific\": True,\n",
    "    \"public_release\": False,\n",
    "    \"publication_number\": \"COMDTINST_M1000.6A\",\n",
    "    \"source\": \"uscg.mil\",\n",
    "    \"organization\": \"CG-BSX-1\",\n",
    "    \"curator\": \"Smith\",\n",
    "    \"file_name\": \"fictional_directive.pdf\",\n",
    "    \"summary\": \"A one paragraph summary of the document\",\n",
    "}\n",
    "\n",
    "# Insert the fictional document metadata into the ask_pdf_docs collection\n",
    "client.upsert(\n",
    "    collection_name=pdfs_collection_name,\n",
    "    points=[{\n",
    "        \"id\": pdf_id,\n",
    "        \"vector\": sample_vector,\n",
    "        \"payload\": document_metadata\n",
    "    }]\n",
    ")\n"
   ]
  },
  {
   "cell_type": "markdown",
   "metadata": {},
   "source": [
    "### Add a fictional record for ask_pdf_pages"
   ]
  },
  {
   "cell_type": "code",
   "execution_count": 6,
   "metadata": {},
   "outputs": [
    {
     "data": {
      "text/plain": [
       "UpdateResult(operation_id=162, status=<UpdateStatus.COMPLETED: 'completed'>)"
      ]
     },
     "execution_count": 6,
     "metadata": {},
     "output_type": "execute_result"
    }
   ],
   "source": [
    "\n",
    "page_metadata = {\n",
    "    \"content\": \"Nice job, Drew. This is the content of page 1\",\n",
    "    \"title\": \"Important Coast Guard Document\",\n",
    "    \"page_number\": 1,\n",
    "    \"publication_number\": \"COMDTINST_M9999.6X\",\n",
    "    # Link to the parent document (UUID)\n",
    "    \"pdf_doc_id\": \"002552f4-ccde-4518-bb5d-e861c7188653\",\n",
    "}\n",
    "\n",
    "client.upsert(\n",
    "    collection_name=pages_collection_name,\n",
    "    points=[{\n",
    "        \"vector\": sample_vector,  # Page embedding vector\n",
    "        \"payload\": page_metadata\n",
    "    }]\n",
    ")"
   ]
  },
  {
   "cell_type": "markdown",
   "metadata": {},
   "source": [
    "### See some records"
   ]
  },
  {
   "cell_type": "code",
   "execution_count": 31,
   "metadata": {},
   "outputs": [
    {
     "name": "stdout",
     "output_type": "stream",
     "text": [
      "Number of records in collection \"ask_pdf_docs\": 1\n",
      "      \n",
      "The first record is:\n"
     ]
    },
    {
     "data": {
      "text/plain": [
       "[Record(id='002552f4-ccde-4518-bb5d-e861c7188653', payload={'title': 'Fictional Coast Guard Directive', 'leadership_scope': '1_National', 'creation_date': '2023-01-15T00:00:00', 'effective_date': '2023-02-01T00:00:00', 'upsert_date': '2024-09-27T17:35:35.649753', 'expiration_date': '2033-02-01T00:00:00', 'aux_specific': True, 'public_release': False, 'publication_number': 'COMDTINST_M1000.6A', 'source': 'uscg.mil', 'organization': 'CG-BSX-1', 'curator': 'Smith', 'file_name': 'fictional_directive.pdf', 'summary': 'A one paragraph summary of the document'}, vector=None, shard_key=None, order_value=None)]"
      ]
     },
     "execution_count": 31,
     "metadata": {},
     "output_type": "execute_result"
    }
   ],
   "source": [
    "all_records = client.scroll(\n",
    "    collection_name=pdfs_collection_name,\n",
    "    limit=100000,\n",
    "    with_payload=True,  # change to True to see the payload\n",
    "    with_vectors=False  # change to True to see the vectors\n",
    ")\n",
    "\n",
    "print(f\"\"\"Number of records in collection \"{pdfs_collection_name}\": {len(all_records[0])}\n",
    "      \n",
    "The first record is:\"\"\")\n",
    "(all_records[0])  # see the first point#"
   ]
  },
  {
   "cell_type": "code",
   "execution_count": null,
   "metadata": {},
   "outputs": [],
   "source": []
  }
 ],
 "metadata": {
  "kernelspec": {
   "display_name": ".venv",
   "language": "python",
   "name": "python3"
  },
  "language_info": {
   "codemirror_mode": {
    "name": "ipython",
    "version": 3
   },
   "file_extension": ".py",
   "mimetype": "text/x-python",
   "name": "python",
   "nbconvert_exporter": "python",
   "pygments_lexer": "ipython3",
   "version": "3.11.6"
  }
 },
 "nbformat": 4,
 "nbformat_minor": 2
}
