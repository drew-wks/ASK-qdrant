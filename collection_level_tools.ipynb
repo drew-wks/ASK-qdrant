{
 "cells": [
  {
   "cell_type": "code",
   "execution_count": 3,
   "metadata": {},
   "outputs": [],
   "source": [
    "import streamlit as st\n",
    "from qdrant_client import QdrantClient\n",
    "from qdrant_client.http.models import Distance, VectorParams, PayloadSchemaType\n",
    "from qdrant_client.http import exceptions as qdrant_exceptions\n",
    "\n",
    "# CONFIG: qdrant\n",
    "api_key = st.secrets[\"QDRANT_API_KEY\"]\n",
    "url = st.secrets[\"QDRANT_URL\"]\n",
    "qdrant_collection_name = \"ask_pdf_pages\"  # ask_pdf_docs"
   ]
  },
  {
   "cell_type": "code",
   "execution_count": 4,
   "metadata": {},
   "outputs": [
    {
     "name": "stdout",
     "output_type": "stream",
     "text": [
      "collections=[CollectionDescription(name='ask_pdf_pages'), CollectionDescription(name='ask_pdf_docs'), CollectionDescription(name='ASK_vectorstore')]\n"
     ]
    }
   ],
   "source": [
    "client = QdrantClient(\n",
    "    url=url,\n",
    "    api_key=api_key,\n",
    ")\n",
    "\n",
    "try:\n",
    "    '''usage'''\n",
    "    content = client.get_collections()\n",
    "    print(content)\n",
    "except qdrant_exceptions.UnexpectedResponse as e:\n",
    "    # Check if the error is a 404 Not Found\n",
    "    if \"404\" in str(e):\n",
    "        print(\"The server returned a 404 Not Found error, which indicates the server is active but could not find the requested URL or endpoint. This might be due to a wrong URL, an incorrect path, or a resource that doesn't exist.\")\n",
    "    else:\n",
    "        # Re-raise the error if it's not a 404\n",
    "        raise\n",
    "except Exception as e:\n",
    "    # Handle any other exceptions that may occur\n",
    "    print(f\"An unexpected error occurred: {e}\")"
   ]
  },
  {
   "cell_type": "markdown",
   "metadata": {},
   "source": [
    "### Create the PDF Document collection"
   ]
  },
  {
   "cell_type": "code",
   "execution_count": 6,
   "metadata": {},
   "outputs": [
    {
     "data": {
      "text/plain": [
       "True"
      ]
     },
     "execution_count": 6,
     "metadata": {},
     "output_type": "execute_result"
    }
   ],
   "source": [
    "pdf_document_vectors_config = VectorParams(size=1536, distance=Distance.COSINE)\n",
    "\n",
    "# Create the PDF_document collection\n",
    "client.create_collection(\n",
    "    collection_name=\"ask_pdf_docs\",\n",
    "    vectors_config=pdf_document_vectors_config,\n",
    "    shard_number=1,  # Adjust based on your sharding needs\n",
    "    replication_factor=1,  # Adjust if you need replication in a distributed setup\n",
    "    on_disk_payload=True,\n",
    ")  # Store payload on disk to save RAM"
   ]
  },
  {
   "cell_type": "code",
   "execution_count": 12,
   "metadata": {},
   "outputs": [],
   "source": [
    "# Define payload schema fields that you want to index for fast filtering\n",
    "document_fields_to_index = [\n",
    "    (\"title\", PayloadSchemaType.TEXT),\n",
    "    (\"leadership_scope\", PayloadSchemaType.TEXT),\n",
    "    # Use timestamp format if necessary\n",
    "    (\"creation_date\", PayloadSchemaType.DATETIME),\n",
    "    (\"effective_date\", PayloadSchemaType.DATETIME),\n",
    "    (\"upsert_date\", PayloadSchemaType.DATETIME),\n",
    "    (\"expiration_date\", PayloadSchemaType.DATETIME),\n",
    "    (\"aux_specific\", PayloadSchemaType.BOOL),\n",
    "    (\"public_release\", PayloadSchemaType.BOOL),\n",
    "    (\"publication_number\", PayloadSchemaType.TEXT),\n",
    "    (\"source\", PayloadSchemaType.TEXT),\n",
    "    (\"organization\", PayloadSchemaType.TEXT),\n",
    "    (\"curator\", PayloadSchemaType.TEXT),\n",
    "    (\"file_name\", PayloadSchemaType.TEXT),\n",
    "]\n",
    "\n",
    "# Create indexes for relevant fields\n",
    "for field_name, field_type in document_fields_to_index:\n",
    "    client.create_payload_index(\n",
    "        collection_name=\"ask_pdf_docs\",\n",
    "        field_name=field_name,\n",
    "        field_schema=field_type\n",
    "    )"
   ]
  },
  {
   "cell_type": "markdown",
   "metadata": {},
   "source": [
    "### Create the PDF Page collection"
   ]
  },
  {
   "cell_type": "code",
   "execution_count": null,
   "metadata": {},
   "outputs": [],
   "source": [
    "pdf_page_vectors_config = VectorParams(size=1536, distance=Distance.COSINE)\n",
    "\n",
    "# Create the PDF_document_page collection\n",
    "client.create_collection(\n",
    "    collection_name=\"ask_pdf_pages\",\n",
    "    vectors_config=pdf_page_vectors_config,\n",
    "    shard_number=1,  # Adjust based on your needs\n",
    "    on_disk_payload=True  # Store payload on disk to save RAM\n",
    ")"
   ]
  },
  {
   "cell_type": "code",
   "execution_count": 21,
   "metadata": {},
   "outputs": [],
   "source": [
    "\n",
    "# Define payload schema fields to index for fast filtering\n",
    "page_fields_to_index = [\n",
    "    (\"content\", PayloadSchemaType.TEXT),  # Content of the page\n",
    "    (\"page_number\", PayloadSchemaType.INTEGER),\n",
    "    (\"pdf_doc_id\", PayloadSchemaType.UUID),\n",
    "    (\"publication_number\", PayloadSchemaType.TEXT),\n",
    "    (\"title\", PayloadSchemaType.TEXT),  # Linked from the PDF_document\n",
    "]\n",
    "\n",
    "# Create indexes for relevant fields\n",
    "for field_name, field_type in page_fields_to_index:\n",
    "    client.create_payload_index(\n",
    "        collection_name=\"ask_pdf_pages\",\n",
    "        field_name=field_name,\n",
    "        field_schema=field_type,\n",
    "    )"
   ]
  },
  {
   "cell_type": "markdown",
   "metadata": {},
   "source": [
    "### Add a payload field"
   ]
  },
  {
   "cell_type": "code",
   "execution_count": 42,
   "metadata": {},
   "outputs": [
    {
     "data": {
      "text/plain": [
       "UpdateResult(operation_id=157, status=<UpdateStatus.COMPLETED: 'completed'>)"
      ]
     },
     "execution_count": 42,
     "metadata": {},
     "output_type": "execute_result"
    }
   ],
   "source": [
    "client.create_payload_index(\n",
    "    collection_name=\"ask_pdf_pages\", field_name=\"zcontent\", field_schema=PayloadSchemaType.TEXT)"
   ]
  },
  {
   "cell_type": "code",
   "execution_count": 43,
   "metadata": {},
   "outputs": [
    {
     "data": {
      "text/plain": [
       "UpdateResult(operation_id=159, status=<UpdateStatus.COMPLETED: 'completed'>)"
      ]
     },
     "execution_count": 43,
     "metadata": {},
     "output_type": "execute_result"
    }
   ],
   "source": [
    "client.delete_payload_index(\n",
    "    collection_name=\"ask_pdf_pages\", field_name=\"content\")"
   ]
  },
  {
   "cell_type": "code",
   "execution_count": null,
   "metadata": {},
   "outputs": [],
   "source": []
  }
 ],
 "metadata": {
  "kernelspec": {
   "display_name": ".venv",
   "language": "python",
   "name": "python3"
  },
  "language_info": {
   "codemirror_mode": {
    "name": "ipython",
    "version": 3
   },
   "file_extension": ".py",
   "mimetype": "text/x-python",
   "name": "python",
   "nbconvert_exporter": "python",
   "pygments_lexer": "ipython3",
   "version": "3.11.6"
  }
 },
 "nbformat": 4,
 "nbformat_minor": 2
}
