{
 "cells": [
  {
   "cell_type": "code",
   "execution_count": 4,
   "metadata": {},
   "outputs": [],
   "source": [
    "import streamlit as st\n",
    "from qdrant_client import QdrantClient\n",
    "from qdrant_client.http.models import Distance, VectorParams, PayloadSchemaType\n",
    "from qdrant_client.http import exceptions as qdrant_exceptions\n",
    "\n",
    "# CONFIG: qdrant\n",
    "api_key = st.secrets[\"QDRANT_API_KEY\"]\n",
    "url = st.secrets[\"QDRANT_URL\"]\n",
    "\n",
    "client = QdrantClient(\n",
    "    url=url,\n",
    "    api_key=api_key,\n",
    ")\n",
    "\n",
    "qdrant_collection_name = \"ask_pdf_pages\"  # ask_pdf_docs"
   ]
  },
  {
   "cell_type": "code",
   "execution_count": 5,
   "metadata": {},
   "outputs": [
    {
     "name": "stdout",
     "output_type": "stream",
     "text": [
      "collections=[CollectionDescription(name='ask_pdf_pages'), CollectionDescription(name='ask_pdf_docs'), CollectionDescription(name='ASK_vectorstore')]\n"
     ]
    }
   ],
   "source": [
    "try:\n",
    "    collections = client.get_collections()\n",
    "    print(collections)\n",
    "except qdrant_exceptions.UnexpectedResponse as e:\n",
    "    # Check if the error is a 404 Not Found\n",
    "    if \"404\" in str(e):\n",
    "        print(\"The server returned a 404 Not Found error, which indicates the server is active but could not find the requested URL or endpoint. This might be due to a wrong URL, an incorrect path, or a resource that doesn't exist.\")\n",
    "    else:\n",
    "        # Re-raise the error if it's not a 404\n",
    "        raise\n",
    "except Exception as e:\n",
    "    # Handle any other exceptions that may occur\n",
    "    print(f\"An unexpected error occurred: {e}\")"
   ]
  },
  {
   "cell_type": "markdown",
   "metadata": {},
   "source": [
    "### Create the PDF Document collection"
   ]
  },
  {
   "cell_type": "code",
   "execution_count": 6,
   "metadata": {},
   "outputs": [
    {
     "data": {
      "text/plain": [
       "True"
      ]
     },
     "execution_count": 6,
     "metadata": {},
     "output_type": "execute_result"
    }
   ],
   "source": [
    "pdf_document_vectors_config = VectorParams(size=1536, distance=Distance.COSINE)\n",
    "\n",
    "# Create the PDF_document collection\n",
    "client.create_collection(\n",
    "    collection_name=\"ask_pdf_docs\",\n",
    "    vectors_config=pdf_document_vectors_config,\n",
    "    shard_number=1,  # Adjust based on your sharding needs\n",
    "    replication_factor=1,  # Adjust if you need replication in a distributed setup\n",
    "    on_disk_payload=True,\n",
    ")  # Store payload on disk to save RAM"
   ]
  },
  {
   "cell_type": "code",
   "execution_count": 12,
   "metadata": {},
   "outputs": [],
   "source": [
    "# Define payload schema fields that you want to index for fast filtering\n",
    "\n",
    "document_fields_to_index = [\n",
    "    # Name of the document. Defaults to file name without the extension if none.\n",
    "    (\"title\", PayloadSchemaType.TEXT),\n",
    "    # 1_National, 2_Area, 3_District, 4_Region, 5_Division, 5_Sector, 6_Flotilla, 6_Station, 6_Other_unit.\n",
    "    (\"leadership_scope\", PayloadSchemaType.TEXT),\n",
    "    # Uses existing PDF date, otherwise defaults to the ingestion date.\n",
    "    (\"creation_date\", PayloadSchemaType.DATETIME),\n",
    "    # Date the document became effective, defaults to ingestion date if none.\n",
    "    (\"effective_date\", PayloadSchemaType.DATETIME),\n",
    "    # Date uploaded to the vector database.\n",
    "    (\"upsert_date\", PayloadSchemaType.DATETIME),\n",
    "    # Defaults to effective date + 10 years per COMDINST M5215.6I if no cancellation date is given.\n",
    "    (\"expiration_date\", PayloadSchemaType.DATETIME),\n",
    "    # True if the document specifically applies to the Auxiliary.\n",
    "    (\"aux_specific\", PayloadSchemaType.BOOL),\n",
    "    # True if the document is available on the public internet.\n",
    "    (\"public_release\", PayloadSchemaType.BOOL),\n",
    "    # Identification number of the directive or document, underscores for spaces (e.g., COMDTINST_M1000.6A).\n",
    "    (\"publication_number\", PayloadSchemaType.TEXT),\n",
    "    # Web domain source of the document (e.g., uscg.mil, cgaux.org).\n",
    "    (\"source\", PayloadSchemaType.TEXT),\n",
    "    # Can track the Coast Guard directive originator using SDL or Auxiliary Unit Number (e.g., CG-BSX-1).\n",
    "    (\"organization\", PayloadSchemaType.TEXT),\n",
    "    # Last name of the Auxiliarist who curated the document (currently blank).\n",
    "    (\"curator\", PayloadSchemaType.TEXT),\n",
    "    (\"file_name\", PayloadSchemaType.TEXT),  # Name of the PDF file.\n",
    "]\n",
    "\n",
    "\n",
    "# Create indexes for relevant fields\n",
    "for field_name, field_type in document_fields_to_index:\n",
    "    client.create_payload_index(\n",
    "        collection_name=\"ask_pdf_docs\",\n",
    "        field_name=field_name,\n",
    "        field_schema=field_type\n",
    "    )"
   ]
  },
  {
   "cell_type": "markdown",
   "metadata": {},
   "source": [
    "### Create the PDF Page collection"
   ]
  },
  {
   "cell_type": "code",
   "execution_count": null,
   "metadata": {},
   "outputs": [],
   "source": [
    "pdf_page_vectors_config = VectorParams(size=1536, distance=Distance.COSINE)\n",
    "\n",
    "# Create the PDF_document_page collection\n",
    "client.create_collection(\n",
    "    collection_name=\"ask_pdf_pages\",\n",
    "    vectors_config=pdf_page_vectors_config,\n",
    "    shard_number=1,  # Adjust based on your needs\n",
    "    on_disk_payload=True  # Store payload on disk to save RAM\n",
    ")"
   ]
  },
  {
   "cell_type": "code",
   "execution_count": 21,
   "metadata": {},
   "outputs": [],
   "source": [
    "\n",
    "# Define payload schema fields to index for fast filtering\n",
    "page_fields_to_index = [\n",
    "    (\"content\", PayloadSchemaType.TEXT),  # Content of the page\n",
    "    (\"page_number\", PayloadSchemaType.INTEGER),\n",
    "    (\"pdf_doc_id\", PayloadSchemaType.UUID),\n",
    "    (\"publication_number\", PayloadSchemaType.TEXT),\n",
    "    (\"title\", PayloadSchemaType.TEXT),  # Linked from the PDF_document\n",
    "]\n",
    "\n",
    "# Create indexes for relevant fields\n",
    "for field_name, field_type in page_fields_to_index:\n",
    "    client.create_payload_index(\n",
    "        collection_name=\"ask_pdf_pages\",\n",
    "        field_name=field_name,\n",
    "        field_schema=field_type,\n",
    "    )"
   ]
  },
  {
   "cell_type": "markdown",
   "metadata": {},
   "source": [
    "### Add a payload field"
   ]
  },
  {
   "cell_type": "code",
   "execution_count": 42,
   "metadata": {},
   "outputs": [
    {
     "data": {
      "text/plain": [
       "UpdateResult(operation_id=157, status=<UpdateStatus.COMPLETED: 'completed'>)"
      ]
     },
     "execution_count": 42,
     "metadata": {},
     "output_type": "execute_result"
    }
   ],
   "source": [
    "client.create_payload_index(\n",
    "    collection_name=\"ask_pdf_pages\", field_name=\"content\", field_schema=PayloadSchemaType.TEXT)"
   ]
  },
  {
   "cell_type": "code",
   "execution_count": 43,
   "metadata": {},
   "outputs": [
    {
     "data": {
      "text/plain": [
       "UpdateResult(operation_id=159, status=<UpdateStatus.COMPLETED: 'completed'>)"
      ]
     },
     "execution_count": 43,
     "metadata": {},
     "output_type": "execute_result"
    }
   ],
   "source": [
    "client.delete_payload_index(\n",
    "    collection_name=\"ask_pdf_pages\", field_name=\"content\")"
   ]
  },
  {
   "cell_type": "code",
   "execution_count": null,
   "metadata": {},
   "outputs": [],
   "source": []
  }
 ],
 "metadata": {
  "kernelspec": {
   "display_name": ".venv",
   "language": "python",
   "name": "python3"
  },
  "language_info": {
   "codemirror_mode": {
    "name": "ipython",
    "version": 3
   },
   "file_extension": ".py",
   "mimetype": "text/x-python",
   "name": "python",
   "nbconvert_exporter": "python",
   "pygments_lexer": "ipython3",
   "version": "3.11.6"
  }
 },
 "nbformat": 4,
 "nbformat_minor": 2
}
