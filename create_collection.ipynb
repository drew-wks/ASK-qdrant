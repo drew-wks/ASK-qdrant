{
 "cells": [
  {
   "cell_type": "code",
   "execution_count": 1,
   "metadata": {},
   "outputs": [],
   "source": [
    "import streamlit as st\n",
    "from qdrant_client import QdrantClient\n",
    "from qdrant_client.http.models import Distance, VectorParams, PayloadSchemaType\n",
    "from qdrant_client.http import exceptions as qdrant_exceptions\n",
    "\n",
    "# CONFIG: qdrant\n",
    "api_key = st.secrets[\"QDRANT_API_KEY\"]\n",
    "url = st.secrets[\"QDRANT_URL\"]  # for cloud\n",
    "\n",
    "qdrant_collection_name = \"ASK_vectorstore\"\n",
    "# for local instance /private/tmp/local_qdrant\n",
    "qdrant_path = \"/Users/drew_wilkins/Drews_Files/Drew/Python/VSCode/ASK/data/qdrant\""
   ]
  },
  {
   "cell_type": "code",
   "execution_count": 11,
   "metadata": {},
   "outputs": [
    {
     "name": "stdout",
     "output_type": "stream",
     "text": [
      "collections=[CollectionDescription(name='ask_pdf_docs'), CollectionDescription(name='ASK_vectorstore')]\n"
     ]
    }
   ],
   "source": [
    "client = QdrantClient(\n",
    "    url=url,\n",
    "    api_key=api_key,\n",
    ")\n",
    "\n",
    "try:\n",
    "    '''usage'''\n",
    "    content = client.get_collections()\n",
    "    print(content)\n",
    "except qdrant_exceptions.UnexpectedResponse as e:\n",
    "    # Check if the error is a 404 Not Found\n",
    "    if \"404\" in str(e):\n",
    "        print(\"The server returned a 404 Not Found error, which indicates the server is active but could not find the requested URL or endpoint. This might be due to a wrong URL, an incorrect path, or a resource that doesn't exist.\")\n",
    "    else:\n",
    "        # Re-raise the error if it's not a 404\n",
    "        raise\n",
    "except Exception as e:\n",
    "    # Handle any other exceptions that may occur\n",
    "    print(f\"An unexpected error occurred: {e}\")"
   ]
  },
  {
   "cell_type": "markdown",
   "metadata": {},
   "source": [
    "### Create the PDF Document collection"
   ]
  },
  {
   "cell_type": "code",
   "execution_count": 6,
   "metadata": {},
   "outputs": [
    {
     "data": {
      "text/plain": [
       "True"
      ]
     },
     "execution_count": 6,
     "metadata": {},
     "output_type": "execute_result"
    }
   ],
   "source": [
    "pdf_document_vectors_config = VectorParams(size=1536, distance=Distance.COSINE)\n",
    "\n",
    "# Create the PDF_document collection\n",
    "client.create_collection(\n",
    "    collection_name=\"ask_pdf_docs\",\n",
    "    vectors_config=pdf_document_vectors_config,\n",
    "    shard_number=1,  # Adjust based on your sharding needs\n",
    "    replication_factor=1,  # Adjust if you need replication in a distributed setup\n",
    "    on_disk_payload=True,\n",
    ")  # Store payload on disk to save RAM"
   ]
  },
  {
   "cell_type": "code",
   "execution_count": 12,
   "metadata": {},
   "outputs": [],
   "source": [
    "# Define payload schema fields that you want to index for fast filtering\n",
    "document_fields_to_index = [\n",
    "    (\"title\", PayloadSchemaType.TEXT),\n",
    "    (\"leadership_scope\", PayloadSchemaType.TEXT),\n",
    "    # Use timestamp format if necessary\n",
    "    (\"creation_date\", PayloadSchemaType.DATETIME),\n",
    "    (\"effective_date\", PayloadSchemaType.DATETIME),\n",
    "    (\"upsert_date\", PayloadSchemaType.DATETIME),\n",
    "    (\"expiration_date\", PayloadSchemaType.DATETIME),\n",
    "    (\"aux_specific\", PayloadSchemaType.BOOL),\n",
    "    (\"public_release\", PayloadSchemaType.BOOL),\n",
    "    (\"publication_number\", PayloadSchemaType.TEXT),\n",
    "    (\"source\", PayloadSchemaType.TEXT),\n",
    "    (\"organization\", PayloadSchemaType.TEXT),\n",
    "    (\"curator\", PayloadSchemaType.TEXT),\n",
    "    (\"file_name\", PayloadSchemaType.TEXT),\n",
    "]\n",
    "\n",
    "# Create indexes for relevant fields\n",
    "for field_name, field_type in document_fields_to_index:\n",
    "    client.create_payload_index(\n",
    "        collection_name=\"ask_pdf_docs\",\n",
    "        field_name=field_name,\n",
    "        field_schema=field_type\n",
    "    )"
   ]
  },
  {
   "cell_type": "markdown",
   "metadata": {},
   "source": [
    "### Create the PDF Page collection"
   ]
  },
  {
   "cell_type": "code",
   "execution_count": null,
   "metadata": {},
   "outputs": [],
   "source": [
    "pdf_page_vectors_config = VectorParams(size=1536, distance=Distance.COSINE)\n",
    "\n",
    "# Create the PDF_document_page collection\n",
    "client.create_collection(\n",
    "    collection_name=\"ask_pdf_pages\",\n",
    "    vectors_config=pdf_page_vectors_config,\n",
    "    shard_number=1,  # Adjust based on your needs\n",
    "    on_disk_payload=True  # Store payload on disk to save RAM\n",
    ")"
   ]
  },
  {
   "cell_type": "code",
   "execution_count": 24,
   "metadata": {},
   "outputs": [
    {
     "ename": "UnexpectedResponse",
     "evalue": "Unexpected Response: 400 (Bad Request)\nRaw response content:\nb'{\"status\":{\"error\":\"Format error in JSON body: data did not match any variant of untagged enum PayloadFieldSchema at line 1 column 49\"},\"time\":0.0}'",
     "output_type": "error",
     "traceback": [
      "\u001b[0;31m---------------------------------------------------------------------------\u001b[0m",
      "\u001b[0;31mUnexpectedResponse\u001b[0m                        Traceback (most recent call last)",
      "Cell \u001b[0;32mIn[24], line 12\u001b[0m\n\u001b[1;32m     10\u001b[0m \u001b[38;5;66;03m# Create indexes for relevant fields\u001b[39;00m\n\u001b[1;32m     11\u001b[0m \u001b[38;5;28;01mfor\u001b[39;00m field_name, field_type \u001b[38;5;129;01min\u001b[39;00m page_fields_to_index:\n\u001b[0;32m---> 12\u001b[0m     \u001b[43mclient\u001b[49m\u001b[38;5;241;43m.\u001b[39;49m\u001b[43mcreate_payload_index\u001b[49m\u001b[43m(\u001b[49m\n\u001b[1;32m     13\u001b[0m \u001b[43m        \u001b[49m\u001b[43mcollection_name\u001b[49m\u001b[38;5;241;43m=\u001b[39;49m\u001b[38;5;124;43m\"\u001b[39;49m\u001b[38;5;124;43mask_pdf_pages\u001b[39;49m\u001b[38;5;124;43m\"\u001b[39;49m\u001b[43m,\u001b[49m\n\u001b[1;32m     14\u001b[0m \u001b[43m        \u001b[49m\u001b[43mfield_name\u001b[49m\u001b[38;5;241;43m=\u001b[39;49m\u001b[43mfield_name\u001b[49m\u001b[43m,\u001b[49m\n\u001b[1;32m     15\u001b[0m \u001b[43m        \u001b[49m\u001b[43mfield_schema\u001b[49m\u001b[38;5;241;43m=\u001b[39;49m\u001b[43mfield_type\u001b[49m\u001b[43m,\u001b[49m\n\u001b[1;32m     16\u001b[0m \u001b[43m    \u001b[49m\u001b[43m)\u001b[49m\n",
      "File \u001b[0;32m~/Drews_Files/Drew/Python/ASK-qdrant/.venv/lib/python3.11/site-packages/qdrant_client/qdrant_client.py:2400\u001b[0m, in \u001b[0;36mQdrantClient.create_payload_index\u001b[0;34m(self, collection_name, field_name, field_schema, field_type, wait, ordering, **kwargs)\u001b[0m\n\u001b[1;32m   2377\u001b[0m \u001b[38;5;250m\u001b[39m\u001b[38;5;124;03m\"\"\"Creates index for a given payload field.\u001b[39;00m\n\u001b[1;32m   2378\u001b[0m \u001b[38;5;124;03mIndexed fields allow to perform filtered search operations faster.\u001b[39;00m\n\u001b[1;32m   2379\u001b[0m \n\u001b[0;32m   (...)\u001b[0m\n\u001b[1;32m   2396\u001b[0m \u001b[38;5;124;03m    Operation Result\u001b[39;00m\n\u001b[1;32m   2397\u001b[0m \u001b[38;5;124;03m\"\"\"\u001b[39;00m\n\u001b[1;32m   2398\u001b[0m \u001b[38;5;28;01massert\u001b[39;00m \u001b[38;5;28mlen\u001b[39m(kwargs) \u001b[38;5;241m==\u001b[39m \u001b[38;5;241m0\u001b[39m, \u001b[38;5;124mf\u001b[39m\u001b[38;5;124m\"\u001b[39m\u001b[38;5;124mUnknown arguments: \u001b[39m\u001b[38;5;132;01m{\u001b[39;00m\u001b[38;5;28mlist\u001b[39m(kwargs\u001b[38;5;241m.\u001b[39mkeys())\u001b[38;5;132;01m}\u001b[39;00m\u001b[38;5;124m\"\u001b[39m\n\u001b[0;32m-> 2400\u001b[0m \u001b[38;5;28;01mreturn\u001b[39;00m \u001b[38;5;28;43mself\u001b[39;49m\u001b[38;5;241;43m.\u001b[39;49m\u001b[43m_client\u001b[49m\u001b[38;5;241;43m.\u001b[39;49m\u001b[43mcreate_payload_index\u001b[49m\u001b[43m(\u001b[49m\n\u001b[1;32m   2401\u001b[0m \u001b[43m    \u001b[49m\u001b[43mcollection_name\u001b[49m\u001b[38;5;241;43m=\u001b[39;49m\u001b[43mcollection_name\u001b[49m\u001b[43m,\u001b[49m\n\u001b[1;32m   2402\u001b[0m \u001b[43m    \u001b[49m\u001b[43mfield_name\u001b[49m\u001b[38;5;241;43m=\u001b[39;49m\u001b[43mfield_name\u001b[49m\u001b[43m,\u001b[49m\n\u001b[1;32m   2403\u001b[0m \u001b[43m    \u001b[49m\u001b[43mfield_schema\u001b[49m\u001b[38;5;241;43m=\u001b[39;49m\u001b[43mfield_schema\u001b[49m\u001b[43m,\u001b[49m\n\u001b[1;32m   2404\u001b[0m \u001b[43m    \u001b[49m\u001b[43mfield_type\u001b[49m\u001b[38;5;241;43m=\u001b[39;49m\u001b[43mfield_type\u001b[49m\u001b[43m,\u001b[49m\n\u001b[1;32m   2405\u001b[0m \u001b[43m    \u001b[49m\u001b[43mwait\u001b[49m\u001b[38;5;241;43m=\u001b[39;49m\u001b[43mwait\u001b[49m\u001b[43m,\u001b[49m\n\u001b[1;32m   2406\u001b[0m \u001b[43m    \u001b[49m\u001b[43mordering\u001b[49m\u001b[38;5;241;43m=\u001b[39;49m\u001b[43mordering\u001b[49m\u001b[43m,\u001b[49m\n\u001b[1;32m   2407\u001b[0m \u001b[43m    \u001b[49m\u001b[38;5;241;43m*\u001b[39;49m\u001b[38;5;241;43m*\u001b[39;49m\u001b[43mkwargs\u001b[49m\u001b[43m,\u001b[49m\n\u001b[1;32m   2408\u001b[0m \u001b[43m\u001b[49m\u001b[43m)\u001b[49m\n",
      "File \u001b[0;32m~/Drews_Files/Drew/Python/ASK-qdrant/.venv/lib/python3.11/site-packages/qdrant_client/qdrant_remote.py:2910\u001b[0m, in \u001b[0;36mQdrantRemote.create_payload_index\u001b[0;34m(self, collection_name, field_name, field_schema, field_type, wait, ordering, **kwargs)\u001b[0m\n\u001b[1;32m   2906\u001b[0m \u001b[38;5;28;01mif\u001b[39;00m \u001b[38;5;28misinstance\u001b[39m(field_schema, grpc\u001b[38;5;241m.\u001b[39mPayloadIndexParams):\n\u001b[1;32m   2907\u001b[0m     field_schema \u001b[38;5;241m=\u001b[39m GrpcToRest\u001b[38;5;241m.\u001b[39mconvert_payload_schema_params(field_schema)\n\u001b[1;32m   2909\u001b[0m result: Optional[types\u001b[38;5;241m.\u001b[39mUpdateResult] \u001b[38;5;241m=\u001b[39m (\n\u001b[0;32m-> 2910\u001b[0m     \u001b[38;5;28;43mself\u001b[39;49m\u001b[38;5;241;43m.\u001b[39;49m\u001b[43mopenapi_client\u001b[49m\u001b[38;5;241;43m.\u001b[39;49m\u001b[43mcollections_api\u001b[49m\u001b[38;5;241;43m.\u001b[39;49m\u001b[43mcreate_field_index\u001b[49m\u001b[43m(\u001b[49m\n\u001b[1;32m   2911\u001b[0m \u001b[43m        \u001b[49m\u001b[43mcollection_name\u001b[49m\u001b[38;5;241;43m=\u001b[39;49m\u001b[43mcollection_name\u001b[49m\u001b[43m,\u001b[49m\n\u001b[1;32m   2912\u001b[0m \u001b[43m        \u001b[49m\u001b[43mcreate_field_index\u001b[49m\u001b[38;5;241;43m=\u001b[39;49m\u001b[43mmodels\u001b[49m\u001b[38;5;241;43m.\u001b[39;49m\u001b[43mCreateFieldIndex\u001b[49m\u001b[43m(\u001b[49m\n\u001b[1;32m   2913\u001b[0m \u001b[43m            \u001b[49m\u001b[43mfield_name\u001b[49m\u001b[38;5;241;43m=\u001b[39;49m\u001b[43mfield_name\u001b[49m\u001b[43m,\u001b[49m\u001b[43m \u001b[49m\u001b[43mfield_schema\u001b[49m\u001b[38;5;241;43m=\u001b[39;49m\u001b[43mfield_schema\u001b[49m\n\u001b[1;32m   2914\u001b[0m \u001b[43m        \u001b[49m\u001b[43m)\u001b[49m\u001b[43m,\u001b[49m\n\u001b[1;32m   2915\u001b[0m \u001b[43m        \u001b[49m\u001b[43mwait\u001b[49m\u001b[38;5;241;43m=\u001b[39;49m\u001b[43mwait\u001b[49m\u001b[43m,\u001b[49m\n\u001b[1;32m   2916\u001b[0m \u001b[43m        \u001b[49m\u001b[43mordering\u001b[49m\u001b[38;5;241;43m=\u001b[39;49m\u001b[43mordering\u001b[49m\u001b[43m,\u001b[49m\n\u001b[1;32m   2917\u001b[0m \u001b[43m    \u001b[49m\u001b[43m)\u001b[49m\u001b[38;5;241m.\u001b[39mresult\n\u001b[1;32m   2918\u001b[0m )\n\u001b[1;32m   2919\u001b[0m \u001b[38;5;28;01massert\u001b[39;00m result \u001b[38;5;129;01mis\u001b[39;00m \u001b[38;5;129;01mnot\u001b[39;00m \u001b[38;5;28;01mNone\u001b[39;00m, \u001b[38;5;124m\"\u001b[39m\u001b[38;5;124mCreate field index returned None\u001b[39m\u001b[38;5;124m\"\u001b[39m\n\u001b[1;32m   2920\u001b[0m \u001b[38;5;28;01mreturn\u001b[39;00m result\n",
      "File \u001b[0;32m~/Drews_Files/Drew/Python/ASK-qdrant/.venv/lib/python3.11/site-packages/qdrant_client/http/api/collections_api.py:1186\u001b[0m, in \u001b[0;36mSyncCollectionsApi.create_field_index\u001b[0;34m(self, collection_name, wait, ordering, create_field_index)\u001b[0m\n\u001b[1;32m   1176\u001b[0m \u001b[38;5;28;01mdef\u001b[39;00m \u001b[38;5;21mcreate_field_index\u001b[39m(\n\u001b[1;32m   1177\u001b[0m     \u001b[38;5;28mself\u001b[39m,\n\u001b[1;32m   1178\u001b[0m     collection_name: \u001b[38;5;28mstr\u001b[39m,\n\u001b[0;32m   (...)\u001b[0m\n\u001b[1;32m   1181\u001b[0m     create_field_index: m\u001b[38;5;241m.\u001b[39mCreateFieldIndex \u001b[38;5;241m=\u001b[39m \u001b[38;5;28;01mNone\u001b[39;00m,\n\u001b[1;32m   1182\u001b[0m ) \u001b[38;5;241m-\u001b[39m\u001b[38;5;241m>\u001b[39m m\u001b[38;5;241m.\u001b[39mInlineResponse2006:\n\u001b[1;32m   1183\u001b[0m \u001b[38;5;250m    \u001b[39m\u001b[38;5;124;03m\"\"\"\u001b[39;00m\n\u001b[1;32m   1184\u001b[0m \u001b[38;5;124;03m    Create index for field in collection\u001b[39;00m\n\u001b[1;32m   1185\u001b[0m \u001b[38;5;124;03m    \"\"\"\u001b[39;00m\n\u001b[0;32m-> 1186\u001b[0m     \u001b[38;5;28;01mreturn\u001b[39;00m \u001b[38;5;28;43mself\u001b[39;49m\u001b[38;5;241;43m.\u001b[39;49m\u001b[43m_build_for_create_field_index\u001b[49m\u001b[43m(\u001b[49m\n\u001b[1;32m   1187\u001b[0m \u001b[43m        \u001b[49m\u001b[43mcollection_name\u001b[49m\u001b[38;5;241;43m=\u001b[39;49m\u001b[43mcollection_name\u001b[49m\u001b[43m,\u001b[49m\n\u001b[1;32m   1188\u001b[0m \u001b[43m        \u001b[49m\u001b[43mwait\u001b[49m\u001b[38;5;241;43m=\u001b[39;49m\u001b[43mwait\u001b[49m\u001b[43m,\u001b[49m\n\u001b[1;32m   1189\u001b[0m \u001b[43m        \u001b[49m\u001b[43mordering\u001b[49m\u001b[38;5;241;43m=\u001b[39;49m\u001b[43mordering\u001b[49m\u001b[43m,\u001b[49m\n\u001b[1;32m   1190\u001b[0m \u001b[43m        \u001b[49m\u001b[43mcreate_field_index\u001b[49m\u001b[38;5;241;43m=\u001b[39;49m\u001b[43mcreate_field_index\u001b[49m\u001b[43m,\u001b[49m\n\u001b[1;32m   1191\u001b[0m \u001b[43m    \u001b[49m\u001b[43m)\u001b[49m\n",
      "File \u001b[0;32m~/Drews_Files/Drew/Python/ASK-qdrant/.venv/lib/python3.11/site-packages/qdrant_client/http/api/collections_api.py:150\u001b[0m, in \u001b[0;36m_CollectionsApi._build_for_create_field_index\u001b[0;34m(self, collection_name, wait, ordering, create_field_index)\u001b[0m\n\u001b[1;32m    148\u001b[0m \u001b[38;5;28;01mif\u001b[39;00m \u001b[38;5;124m\"\u001b[39m\u001b[38;5;124mContent-Type\u001b[39m\u001b[38;5;124m\"\u001b[39m \u001b[38;5;129;01mnot\u001b[39;00m \u001b[38;5;129;01min\u001b[39;00m headers:\n\u001b[1;32m    149\u001b[0m     headers[\u001b[38;5;124m\"\u001b[39m\u001b[38;5;124mContent-Type\u001b[39m\u001b[38;5;124m\"\u001b[39m] \u001b[38;5;241m=\u001b[39m \u001b[38;5;124m\"\u001b[39m\u001b[38;5;124mapplication/json\u001b[39m\u001b[38;5;124m\"\u001b[39m\n\u001b[0;32m--> 150\u001b[0m \u001b[38;5;28;01mreturn\u001b[39;00m \u001b[38;5;28;43mself\u001b[39;49m\u001b[38;5;241;43m.\u001b[39;49m\u001b[43mapi_client\u001b[49m\u001b[38;5;241;43m.\u001b[39;49m\u001b[43mrequest\u001b[49m\u001b[43m(\u001b[49m\n\u001b[1;32m    151\u001b[0m \u001b[43m    \u001b[49m\u001b[43mtype_\u001b[49m\u001b[38;5;241;43m=\u001b[39;49m\u001b[43mm\u001b[49m\u001b[38;5;241;43m.\u001b[39;49m\u001b[43mInlineResponse2006\u001b[49m\u001b[43m,\u001b[49m\n\u001b[1;32m    152\u001b[0m \u001b[43m    \u001b[49m\u001b[43mmethod\u001b[49m\u001b[38;5;241;43m=\u001b[39;49m\u001b[38;5;124;43m\"\u001b[39;49m\u001b[38;5;124;43mPUT\u001b[39;49m\u001b[38;5;124;43m\"\u001b[39;49m\u001b[43m,\u001b[49m\n\u001b[1;32m    153\u001b[0m \u001b[43m    \u001b[49m\u001b[43murl\u001b[49m\u001b[38;5;241;43m=\u001b[39;49m\u001b[38;5;124;43m\"\u001b[39;49m\u001b[38;5;124;43m/collections/\u001b[39;49m\u001b[38;5;132;43;01m{collection_name}\u001b[39;49;00m\u001b[38;5;124;43m/index\u001b[39;49m\u001b[38;5;124;43m\"\u001b[39;49m\u001b[43m,\u001b[49m\n\u001b[1;32m    154\u001b[0m \u001b[43m    \u001b[49m\u001b[43mheaders\u001b[49m\u001b[38;5;241;43m=\u001b[39;49m\u001b[43mheaders\u001b[49m\u001b[43m \u001b[49m\u001b[38;5;28;43;01mif\u001b[39;49;00m\u001b[43m \u001b[49m\u001b[43mheaders\u001b[49m\u001b[43m \u001b[49m\u001b[38;5;28;43;01melse\u001b[39;49;00m\u001b[43m \u001b[49m\u001b[38;5;28;43;01mNone\u001b[39;49;00m\u001b[43m,\u001b[49m\n\u001b[1;32m    155\u001b[0m \u001b[43m    \u001b[49m\u001b[43mpath_params\u001b[49m\u001b[38;5;241;43m=\u001b[39;49m\u001b[43mpath_params\u001b[49m\u001b[43m,\u001b[49m\n\u001b[1;32m    156\u001b[0m \u001b[43m    \u001b[49m\u001b[43mparams\u001b[49m\u001b[38;5;241;43m=\u001b[39;49m\u001b[43mquery_params\u001b[49m\u001b[43m,\u001b[49m\n\u001b[1;32m    157\u001b[0m \u001b[43m    \u001b[49m\u001b[43mcontent\u001b[49m\u001b[38;5;241;43m=\u001b[39;49m\u001b[43mbody\u001b[49m\u001b[43m,\u001b[49m\n\u001b[1;32m    158\u001b[0m \u001b[43m\u001b[49m\u001b[43m)\u001b[49m\n",
      "File \u001b[0;32m~/Drews_Files/Drew/Python/ASK-qdrant/.venv/lib/python3.11/site-packages/qdrant_client/http/api_client.py:79\u001b[0m, in \u001b[0;36mApiClient.request\u001b[0;34m(self, type_, method, url, path_params, **kwargs)\u001b[0m\n\u001b[1;32m     77\u001b[0m     kwargs[\u001b[38;5;124m\"\u001b[39m\u001b[38;5;124mtimeout\u001b[39m\u001b[38;5;124m\"\u001b[39m] \u001b[38;5;241m=\u001b[39m \u001b[38;5;28mint\u001b[39m(kwargs[\u001b[38;5;124m\"\u001b[39m\u001b[38;5;124mparams\u001b[39m\u001b[38;5;124m\"\u001b[39m][\u001b[38;5;124m\"\u001b[39m\u001b[38;5;124mtimeout\u001b[39m\u001b[38;5;124m\"\u001b[39m])\n\u001b[1;32m     78\u001b[0m request \u001b[38;5;241m=\u001b[39m \u001b[38;5;28mself\u001b[39m\u001b[38;5;241m.\u001b[39m_client\u001b[38;5;241m.\u001b[39mbuild_request(method, url, \u001b[38;5;241m*\u001b[39m\u001b[38;5;241m*\u001b[39mkwargs)\n\u001b[0;32m---> 79\u001b[0m \u001b[38;5;28;01mreturn\u001b[39;00m \u001b[38;5;28;43mself\u001b[39;49m\u001b[38;5;241;43m.\u001b[39;49m\u001b[43msend\u001b[49m\u001b[43m(\u001b[49m\u001b[43mrequest\u001b[49m\u001b[43m,\u001b[49m\u001b[43m \u001b[49m\u001b[43mtype_\u001b[49m\u001b[43m)\u001b[49m\n",
      "File \u001b[0;32m~/Drews_Files/Drew/Python/ASK-qdrant/.venv/lib/python3.11/site-packages/qdrant_client/http/api_client.py:102\u001b[0m, in \u001b[0;36mApiClient.send\u001b[0;34m(self, request, type_)\u001b[0m\n\u001b[1;32m    100\u001b[0m     \u001b[38;5;28;01mexcept\u001b[39;00m ValidationError \u001b[38;5;28;01mas\u001b[39;00m e:\n\u001b[1;32m    101\u001b[0m         \u001b[38;5;28;01mraise\u001b[39;00m ResponseHandlingException(e)\n\u001b[0;32m--> 102\u001b[0m \u001b[38;5;28;01mraise\u001b[39;00m UnexpectedResponse\u001b[38;5;241m.\u001b[39mfor_response(response)\n",
      "\u001b[0;31mUnexpectedResponse\u001b[0m: Unexpected Response: 400 (Bad Request)\nRaw response content:\nb'{\"status\":{\"error\":\"Format error in JSON body: data did not match any variant of untagged enum PayloadFieldSchema at line 1 column 49\"},\"time\":0.0}'"
     ]
    }
   ],
   "source": [
    "\n",
    "# Define payload schema fields to index for fast filtering\n",
    "page_fields_to_index = [\n",
    "    (\"content\", PayloadSchemaType.TEXT),  # Content of the page\n",
    "    (\"title\", PayloadSchemaType.TEXT),  # Linked from the PDF_document\n",
    "    (\"page_number\", PayloadSchemaType.INTEGER),\n",
    "    (\"publication_number\", PayloadSchemaType.TEXT),\n",
    "    (\"pdf_doc_id\", PayloadSchemaType.UUID),\n",
    "]\n",
    "\n",
    "# Create indexes for relevant fields\n",
    "for field_name, field_type in page_fields_to_index:\n",
    "    client.create_payload_index(\n",
    "        collection_name=\"ask_pdf_pages\",\n",
    "        field_name=field_name,\n",
    "        field_schema=field_type,\n",
    "    )"
   ]
  },
  {
   "cell_type": "code",
   "execution_count": null,
   "metadata": {},
   "outputs": [],
   "source": [
    "client.create_collection(\n",
    "    collection_name=\"pdf_pages\",\n",
    "    vectors_config=VectorParams(size=1536, distance=Distance.COSINE),\n",
    "    shard_number=1,  \n",
    "    on_disk_payload=True  \n",
    "    \n",
    "    \n",
    "page_fields_to_index = [\n",
    "    (\"content\", PayloadSchemaType.TEXT),  \n",
    "    (\"title\", PayloadSchemaType.TEXT),  \n",
    "    (\"page_number\", PayloadSchemaType.INTEGER),\n",
    "    (\"parent_pdf_id\", PayloadSchemaType.UUID), # adding this line results in an error\n",
    "]\n",
    "\n",
    "# Create indexes for relevant fields\n",
    "for field_name, field_type in page_fields_to_index:\n",
    "    client.create_payload_index(\n",
    "        collection_name=\"pdf_pages\",\n",
    "        field_name=field_name,\n",
    "        field_schema=field_type,\n",
    "    )"
   ]
  }
 ],
 "metadata": {
  "kernelspec": {
   "display_name": ".venv",
   "language": "python",
   "name": "python3"
  },
  "language_info": {
   "codemirror_mode": {
    "name": "ipython",
    "version": 3
   },
   "file_extension": ".py",
   "mimetype": "text/x-python",
   "name": "python",
   "nbconvert_exporter": "python",
   "pygments_lexer": "ipython3",
   "version": "3.11.6"
  }
 },
 "nbformat": 4,
 "nbformat_minor": 2
}
